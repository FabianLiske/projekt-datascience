{
 "cells": [
  {
   "cell_type": "code",
   "execution_count": 2,
   "id": "180ea84b-67b8-46a1-8d3e-af48835e9a22",
   "metadata": {},
   "outputs": [],
   "source": [
    "import os\n",
    "from pathlib import Path\n",
    "import pandas as pd\n",
    "from collections import Counter, defaultdict"
   ]
  },
  {
   "cell_type": "markdown",
   "id": "35702851-9ebd-44fa-a80d-b9be21d2a1cf",
   "metadata": {},
   "source": [
    "# Spalten Checken"
   ]
  },
  {
   "cell_type": "code",
   "execution_count": 19,
   "id": "b7e1f346-eb20-4575-9c34-1a4fe5acaee8",
   "metadata": {},
   "outputs": [
    {
     "name": "stdout",
     "output_type": "stream",
     "text": [
      "gefundene CSVs: 93\n"
     ]
    }
   ],
   "source": [
    "sf_raw = Path(\"/workspaces/projekt-datascience/data/raw/san_francisco\")\n",
    "csv_files = sorted(sf_raw.glob(\"**/*.csv*\"))\n",
    "print(f\"gefundene CSVs: {len(csv_files)}\")"
   ]
  },
  {
   "cell_type": "code",
   "execution_count": 16,
   "id": "4982edf6-c2d5-4603-b387-99201e5c52c3",
   "metadata": {},
   "outputs": [],
   "source": [
    "def read_columns_fastish(p):\n",
    "    cols = pd.read_csv(p, nrows=0).columns\n",
    "    raw_cols = list(cols)\n",
    "    norm_cols = tuple(col.strip().lower() for col in cols)\n",
    "    return raw_cols, norm_cols"
   ]
  },
  {
   "cell_type": "code",
   "execution_count": 17,
   "id": "f827224c-e975-480a-9f70-f1f6cdf3b00a",
   "metadata": {},
   "outputs": [],
   "source": [
    "schema_groups = defaultdict(list)\n",
    "col_counter = Counter()\n",
    "per_file_cols = {}\n",
    "\n",
    "for f in csv_files:\n",
    "    raw_cols, norm_cols = read_columns_fastish(f)\n",
    "    schema_groups[norm_cols].append(f)\n",
    "    col_counter.update(norm_cols)"
   ]
  },
  {
   "cell_type": "code",
   "execution_count": 18,
   "id": "48408d89-0455-41bc-9566-e47f8e278a6a",
   "metadata": {
    "collapsed": true,
    "jupyter": {
     "outputs_hidden": true
    }
   },
   "outputs": [
    {
     "name": "stdout",
     "output_type": "stream",
     "text": [
      "Einzigartige Schemas\n",
      "\n",
      "Schema #1 — 7 Datei(en)\n",
      "  • 2014/Stations_2014.csv\n",
      "  • 2015/Stations_2015.csv\n",
      "  • 2016/Stations_2016.csv\n",
      "  • 2017/Stations_2017.csv\n",
      "  • 2018/Stations_2018.csv\n",
      "  • 2019/Stations_2019.csv\n",
      "  • 2020/stations.csv\n",
      "Spalten:\n",
      "  - code\n",
      "  - name\n",
      "  - latitude\n",
      "  - longitude\n",
      "\n",
      "Schema #2 — 48 Datei(en)\n",
      "  • 2014/monthly/OD_2014-04.csv\n",
      "  • 2014/monthly/OD_2014-05.csv\n",
      "  • 2014/monthly/OD_2014-06.csv\n",
      "  • 2014/monthly/OD_2014-07.csv\n",
      "  • 2014/monthly/OD_2014-08.csv\n",
      "  • 2014/monthly/OD_2014-09.csv\n",
      "  • 2014/monthly/OD_2014-10.csv\n",
      "  • 2014/monthly/OD_2014-11.csv\n",
      "  • 2015/monthly/OD_2015-04.csv\n",
      "  • 2015/monthly/OD_2015-05.csv\n",
      "  • 2015/monthly/OD_2015-06.csv\n",
      "  • 2015/monthly/OD_2015-07.csv\n",
      "  • 2015/monthly/OD_2015-08.csv\n",
      "  • 2015/monthly/OD_2015-09.csv\n",
      "  • 2015/monthly/OD_2015-10.csv\n",
      "  • 2015/monthly/OD_2015-11.csv\n",
      "  • 2016/monthly/OD_2016-04.csv\n",
      "  • 2016/monthly/OD_2016-05.csv\n",
      "  • 2016/monthly/OD_2016-06.csv\n",
      "  • 2016/monthly/OD_2016-07.csv\n",
      "  • 2016/monthly/OD_2016-08.csv\n",
      "  • 2016/monthly/OD_2016-09.csv\n",
      "  • 2016/monthly/OD_2016-10.csv\n",
      "  • 2016/monthly/OD_2016-11.csv\n",
      "  • 2017/monthly/OD_2017-04.csv\n",
      "  • 2017/monthly/OD_2017-05.csv\n",
      "  • 2017/monthly/OD_2017-06.csv\n",
      "  • 2017/monthly/OD_2017-07.csv\n",
      "  • 2017/monthly/OD_2017-08.csv\n",
      "  • 2017/monthly/OD_2017-09.csv\n",
      "  • 2017/monthly/OD_2017-10.csv\n",
      "  • 2017/monthly/OD_2017-11.csv\n",
      "  • 2018/monthly/OD_2018-04.csv\n",
      "  • 2018/monthly/OD_2018-05.csv\n",
      "  • 2018/monthly/OD_2018-06.csv\n",
      "  • 2018/monthly/OD_2018-07.csv\n",
      "  • 2018/monthly/OD_2018-08.csv\n",
      "  • 2018/monthly/OD_2018-09.csv\n",
      "  • 2018/monthly/OD_2018-10.csv\n",
      "  • 2018/monthly/OD_2018-11.csv\n",
      "  • 2019/monthly/OD_2019-04.csv\n",
      "  • 2019/monthly/OD_2019-05.csv\n",
      "  • 2019/monthly/OD_2019-06.csv\n",
      "  • 2019/monthly/OD_2019-07.csv\n",
      "  • 2019/monthly/OD_2019-08.csv\n",
      "  • 2019/monthly/OD_2019-09.csv\n",
      "  • 2019/monthly/OD_2019-10.csv\n",
      "  • 2020/yearly/OD_2020.csv\n",
      "Spalten:\n",
      "  - start_date\n",
      "  - start_station_code\n",
      "  - end_date\n",
      "  - end_station_code\n",
      "  - duration_sec\n",
      "  - is_member\n",
      "\n",
      "Schema #3 — 1 Datei(en)\n",
      "  • 2021/2021_stations.csv\n",
      "Spalten:\n",
      "  - pk\n",
      "  - name\n",
      "  - latitude\n",
      "  - longitude\n",
      "\n",
      "Schema #4 — 1 Datei(en)\n",
      "  • 2021/yearly/2021_donnees_ouvertes.csv\n",
      "Spalten:\n",
      "  - start_date\n",
      "  - emplacement_pk_start\n",
      "  - end_date\n",
      "  - emplacement_pk_end\n",
      "  - duration_sec\n",
      "  - is_member\n",
      "\n",
      "Schema #5 — 4 Datei(en)\n",
      "  • 2022/yearly/DonneesOuverte2022.csv\n",
      "  • 2023/yearly/DonneesOuvertes (1).csv\n",
      "  • 2024/yearly/DonneesOuvertes (2).csv\n",
      "  • 2025/yearly/DonneesOuvertes2025_0102030405060708.csv\n",
      "Spalten:\n",
      "  - startstationname\n",
      "  - startstationarrondissement\n",
      "  - startstationlatitude\n",
      "  - startstationlongitude\n",
      "  - endstationname\n",
      "  - endstationarrondissement\n",
      "  - endstationlatitude\n",
      "  - endstationlongitude\n",
      "  - starttimems\n",
      "  - endtimems\n"
     ]
    }
   ],
   "source": [
    "print(\"Einzigartige Schemas\")\n",
    "for i, (schema, files) in enumerate(schema_groups.items(), start=1):\n",
    "    print(f\"\\nSchema #{i} — {len(files)} Datei(en)\")\n",
    "    for ex in files:\n",
    "        print(f\"  • {ex.relative_to(sf_raw)}\")\n",
    "    print(\"Spalten:\")\n",
    "    for c in schema:\n",
    "        print(f\"  - {c}\")"
   ]
  },
  {
   "cell_type": "markdown",
   "id": "22dfa4be-7155-49e9-a3a6-c01ed16c5608",
   "metadata": {},
   "source": [
    "# San Fran in Parquet"
   ]
  },
  {
   "cell_type": "code",
   "execution_count": 1,
   "id": "17e6c5bc-a911-46d2-99ba-9474e855ea15",
   "metadata": {},
   "outputs": [
    {
     "name": "stderr",
     "output_type": "stream",
     "text": [
      "WARNING: Using incubator modules: jdk.incubator.vector\n",
      "Using Spark's default log4j profile: org/apache/spark/log4j2-defaults.properties\n",
      "Setting default log level to \"WARN\".\n",
      "To adjust logging level use sc.setLogLevel(newLevel). For SparkR, use setLogLevel(newLevel).\n",
      "25/10/23 20:37:49 WARN NativeCodeLoader: Unable to load native-hadoop library for your platform... using builtin-java classes where applicable\n"
     ]
    },
    {
     "name": "stdout",
     "output_type": "stream",
     "text": [
      "master: local[64]\n",
      "driver mem: 180g\n",
      "shuffle.parts: 256\n"
     ]
    }
   ],
   "source": [
    "from pyspark.sql import SparkSession\n",
    "spark = SparkSession.builder.getOrCreate()\n",
    "print(\"master:\", spark.sparkContext.master)\n",
    "print(\"driver mem:\", spark.conf.get(\"spark.driver.memory\"))\n",
    "print(\"shuffle.parts:\", spark.conf.get(\"spark.sql.shuffle.partitions\"))"
   ]
  },
  {
   "cell_type": "code",
   "execution_count": 4,
   "id": "959cbb0a-b7ec-4970-9890-c9a2f94aafc4",
   "metadata": {},
   "outputs": [
    {
     "name": "stdout",
     "output_type": "stream",
     "text": [
      "Monatliche Dateien: 47\n",
      "Jährliche Dateien:  6\n",
      "[OK] monthly OD_2014-04.csv year=2014 month=4\n",
      "[OK] monthly OD_2014-05.csv year=2014 month=5\n",
      "[OK] monthly OD_2014-06.csv year=2014 month=6\n",
      "[OK] monthly OD_2014-07.csv year=2014 month=7\n",
      "[OK] monthly OD_2014-08.csv year=2014 month=8\n",
      "[OK] monthly OD_2014-09.csv year=2014 month=9\n",
      "[OK] monthly OD_2014-10.csv year=2014 month=10\n",
      "[OK] monthly OD_2014-11.csv year=2014 month=11\n",
      "[OK] monthly OD_2015-04.csv year=2015 month=4\n",
      "[OK] monthly OD_2015-05.csv year=2015 month=5\n",
      "[OK] monthly OD_2015-06.csv year=2015 month=6\n",
      "[OK] monthly OD_2015-07.csv year=2015 month=7\n",
      "[OK] monthly OD_2015-08.csv year=2015 month=8\n",
      "[OK] monthly OD_2015-09.csv year=2015 month=9\n",
      "[OK] monthly OD_2015-10.csv year=2015 month=10\n",
      "[OK] monthly OD_2015-11.csv year=2015 month=11\n",
      "[OK] monthly OD_2016-04.csv year=2016 month=4\n",
      "[OK] monthly OD_2016-05.csv year=2016 month=5\n",
      "[OK] monthly OD_2016-06.csv year=2016 month=6\n",
      "[OK] monthly OD_2016-07.csv year=2016 month=7\n",
      "[OK] monthly OD_2016-08.csv year=2016 month=8\n",
      "[OK] monthly OD_2016-09.csv year=2016 month=9\n",
      "[OK] monthly OD_2016-10.csv year=2016 month=10\n",
      "[OK] monthly OD_2016-11.csv year=2016 month=11\n",
      "[OK] monthly OD_2017-04.csv year=2017 month=4\n",
      "[OK] monthly OD_2017-05.csv year=2017 month=5\n",
      "[OK] monthly OD_2017-06.csv year=2017 month=6\n",
      "[OK] monthly OD_2017-07.csv year=2017 month=7\n",
      "[OK] monthly OD_2017-08.csv year=2017 month=8\n",
      "[OK] monthly OD_2017-09.csv year=2017 month=9\n",
      "[OK] monthly OD_2017-10.csv year=2017 month=10\n",
      "[OK] monthly OD_2017-11.csv year=2017 month=11\n",
      "[OK] monthly OD_2018-04.csv year=2018 month=4\n",
      "[OK] monthly OD_2018-05.csv year=2018 month=5\n",
      "[OK] monthly OD_2018-06.csv year=2018 month=6\n"
     ]
    },
    {
     "name": "stderr",
     "output_type": "stream",
     "text": [
      "                                                                                \r"
     ]
    },
    {
     "name": "stdout",
     "output_type": "stream",
     "text": [
      "[OK] monthly OD_2018-07.csv year=2018 month=7\n",
      "[OK] monthly OD_2018-08.csv year=2018 month=8\n",
      "[OK] monthly OD_2018-09.csv year=2018 month=9\n",
      "[OK] monthly OD_2018-10.csv year=2018 month=10\n",
      "[OK] monthly OD_2018-11.csv year=2018 month=11\n",
      "[OK] monthly OD_2019-04.csv year=2019 month=4\n",
      "[OK] monthly OD_2019-05.csv year=2019 month=5\n",
      "[OK] monthly OD_2019-06.csv year=2019 month=6\n",
      "[OK] monthly OD_2019-07.csv year=2019 month=7\n",
      "[OK] monthly OD_2019-08.csv year=2019 month=8\n",
      "[OK] monthly OD_2019-09.csv year=2019 month=9\n",
      "[OK] monthly OD_2019-10.csv year=2019 month=10\n"
     ]
    },
    {
     "name": "stderr",
     "output_type": "stream",
     "text": [
      "                                                                                \r"
     ]
    },
    {
     "name": "stdout",
     "output_type": "stream",
     "text": [
      "[OK] yearly OD_2020.csv (start_date/string) year=2020 month=5\n"
     ]
    },
    {
     "name": "stderr",
     "output_type": "stream",
     "text": [
      "                                                                                \r"
     ]
    },
    {
     "name": "stdout",
     "output_type": "stream",
     "text": [
      "[OK] yearly OD_2020.csv (start_date/string) year=2020 month=4\n"
     ]
    },
    {
     "name": "stderr",
     "output_type": "stream",
     "text": [
      "                                                                                \r"
     ]
    },
    {
     "name": "stdout",
     "output_type": "stream",
     "text": [
      "[OK] yearly OD_2020.csv (start_date/string) year=2020 month=6\n"
     ]
    },
    {
     "name": "stderr",
     "output_type": "stream",
     "text": [
      "                                                                                \r"
     ]
    },
    {
     "name": "stdout",
     "output_type": "stream",
     "text": [
      "[OK] yearly OD_2020.csv (start_date/string) year=2020 month=7\n"
     ]
    },
    {
     "name": "stderr",
     "output_type": "stream",
     "text": [
      "                                                                                \r"
     ]
    },
    {
     "name": "stdout",
     "output_type": "stream",
     "text": [
      "[OK] yearly OD_2020.csv (start_date/string) year=2020 month=8\n"
     ]
    },
    {
     "name": "stderr",
     "output_type": "stream",
     "text": [
      "                                                                                \r"
     ]
    },
    {
     "name": "stdout",
     "output_type": "stream",
     "text": [
      "[OK] yearly OD_2020.csv (start_date/string) year=2020 month=9\n"
     ]
    },
    {
     "name": "stderr",
     "output_type": "stream",
     "text": [
      "                                                                                \r"
     ]
    },
    {
     "name": "stdout",
     "output_type": "stream",
     "text": [
      "[OK] yearly OD_2020.csv (start_date/string) year=2020 month=10\n"
     ]
    },
    {
     "name": "stderr",
     "output_type": "stream",
     "text": [
      "                                                                                \r"
     ]
    },
    {
     "name": "stdout",
     "output_type": "stream",
     "text": [
      "[OK] yearly OD_2020.csv (start_date/string) year=2020 month=11\n"
     ]
    },
    {
     "name": "stderr",
     "output_type": "stream",
     "text": [
      "                                                                                \r"
     ]
    },
    {
     "name": "stdout",
     "output_type": "stream",
     "text": [
      "[OK] yearly 2021_donnees_ouvertes.csv (start_date/string) year=2021 month=10\n"
     ]
    },
    {
     "name": "stderr",
     "output_type": "stream",
     "text": [
      "                                                                                \r"
     ]
    },
    {
     "name": "stdout",
     "output_type": "stream",
     "text": [
      "[OK] yearly 2021_donnees_ouvertes.csv (start_date/string) year=2021 month=9\n"
     ]
    },
    {
     "name": "stderr",
     "output_type": "stream",
     "text": [
      "                                                                                \r"
     ]
    },
    {
     "name": "stdout",
     "output_type": "stream",
     "text": [
      "[OK] yearly 2021_donnees_ouvertes.csv (start_date/string) year=2021 month=11\n"
     ]
    },
    {
     "name": "stderr",
     "output_type": "stream",
     "text": [
      "                                                                                \r"
     ]
    },
    {
     "name": "stdout",
     "output_type": "stream",
     "text": [
      "[OK] yearly 2021_donnees_ouvertes.csv (start_date/string) year=2021 month=5\n"
     ]
    },
    {
     "name": "stderr",
     "output_type": "stream",
     "text": [
      "                                                                                \r"
     ]
    },
    {
     "name": "stdout",
     "output_type": "stream",
     "text": [
      "[OK] yearly 2021_donnees_ouvertes.csv (start_date/string) year=2021 month=6\n"
     ]
    },
    {
     "name": "stderr",
     "output_type": "stream",
     "text": [
      "                                                                                \r"
     ]
    },
    {
     "name": "stdout",
     "output_type": "stream",
     "text": [
      "[OK] yearly 2021_donnees_ouvertes.csv (start_date/string) year=2021 month=7\n"
     ]
    },
    {
     "name": "stderr",
     "output_type": "stream",
     "text": [
      "                                                                                \r"
     ]
    },
    {
     "name": "stdout",
     "output_type": "stream",
     "text": [
      "[OK] yearly 2021_donnees_ouvertes.csv (start_date/string) year=2021 month=4\n"
     ]
    },
    {
     "name": "stderr",
     "output_type": "stream",
     "text": [
      "                                                                                \r"
     ]
    },
    {
     "name": "stdout",
     "output_type": "stream",
     "text": [
      "[OK] yearly 2021_donnees_ouvertes.csv (start_date/string) year=2021 month=8\n"
     ]
    },
    {
     "name": "stderr",
     "output_type": "stream",
     "text": [
      "                                                                                \r"
     ]
    },
    {
     "name": "stdout",
     "output_type": "stream",
     "text": [
      "[OK] yearly DonneesOuverte2022.csv (STARTTIMEMS/millis) year=2022 month=10\n"
     ]
    },
    {
     "name": "stderr",
     "output_type": "stream",
     "text": [
      "                                                                                \r"
     ]
    },
    {
     "name": "stdout",
     "output_type": "stream",
     "text": [
      "[OK] yearly DonneesOuverte2022.csv (STARTTIMEMS/millis) year=2022 month=7\n"
     ]
    },
    {
     "name": "stderr",
     "output_type": "stream",
     "text": [
      "                                                                                \r"
     ]
    },
    {
     "name": "stdout",
     "output_type": "stream",
     "text": [
      "[OK] yearly DonneesOuverte2022.csv (STARTTIMEMS/millis) year=2022 month=4\n"
     ]
    },
    {
     "name": "stderr",
     "output_type": "stream",
     "text": [
      "                                                                                \r"
     ]
    },
    {
     "name": "stdout",
     "output_type": "stream",
     "text": [
      "[OK] yearly DonneesOuverte2022.csv (STARTTIMEMS/millis) year=2022 month=5\n"
     ]
    },
    {
     "name": "stderr",
     "output_type": "stream",
     "text": [
      "                                                                                \r"
     ]
    },
    {
     "name": "stdout",
     "output_type": "stream",
     "text": [
      "[OK] yearly DonneesOuverte2022.csv (STARTTIMEMS/millis) year=2022 month=6\n"
     ]
    },
    {
     "name": "stderr",
     "output_type": "stream",
     "text": [
      "                                                                                \r"
     ]
    },
    {
     "name": "stdout",
     "output_type": "stream",
     "text": [
      "[OK] yearly DonneesOuverte2022.csv (STARTTIMEMS/millis) year=2022 month=8\n"
     ]
    },
    {
     "name": "stderr",
     "output_type": "stream",
     "text": [
      "                                                                                \r"
     ]
    },
    {
     "name": "stdout",
     "output_type": "stream",
     "text": [
      "[OK] yearly DonneesOuverte2022.csv (STARTTIMEMS/millis) year=2022 month=9\n"
     ]
    },
    {
     "name": "stderr",
     "output_type": "stream",
     "text": [
      "                                                                                \r"
     ]
    },
    {
     "name": "stdout",
     "output_type": "stream",
     "text": [
      "[OK] yearly DonneesOuverte2022.csv (STARTTIMEMS/millis) year=2022 month=11\n"
     ]
    },
    {
     "name": "stderr",
     "output_type": "stream",
     "text": [
      "                                                                                \r"
     ]
    },
    {
     "name": "stdout",
     "output_type": "stream",
     "text": [
      "[OK] yearly DonneesOuverte2022.csv (STARTTIMEMS/millis) year=2022 month=12\n"
     ]
    },
    {
     "name": "stderr",
     "output_type": "stream",
     "text": [
      "                                                                                \r"
     ]
    },
    {
     "name": "stdout",
     "output_type": "stream",
     "text": [
      "[OK] yearly DonneesOuverte2022.csv (STARTTIMEMS/millis) year=2022 month=3\n"
     ]
    },
    {
     "name": "stderr",
     "output_type": "stream",
     "text": [
      "                                                                                \r"
     ]
    },
    {
     "name": "stdout",
     "output_type": "stream",
     "text": [
      "[OK] yearly DonneesOuvertes (1).csv (STARTTIMEMS/millis) year=2023 month=6\n"
     ]
    },
    {
     "name": "stderr",
     "output_type": "stream",
     "text": [
      "                                                                                \r"
     ]
    },
    {
     "name": "stdout",
     "output_type": "stream",
     "text": [
      "[OK] yearly DonneesOuvertes (1).csv (STARTTIMEMS/millis) year=2023 month=8\n"
     ]
    },
    {
     "name": "stderr",
     "output_type": "stream",
     "text": [
      "                                                                                \r"
     ]
    },
    {
     "name": "stdout",
     "output_type": "stream",
     "text": [
      "[OK] yearly DonneesOuvertes (1).csv (STARTTIMEMS/millis) year=2023 month=12\n"
     ]
    },
    {
     "name": "stderr",
     "output_type": "stream",
     "text": [
      "                                                                                \r"
     ]
    },
    {
     "name": "stdout",
     "output_type": "stream",
     "text": [
      "[OK] yearly DonneesOuvertes (1).csv (STARTTIMEMS/millis) year=2023 month=9\n"
     ]
    },
    {
     "name": "stderr",
     "output_type": "stream",
     "text": [
      "                                                                                \r"
     ]
    },
    {
     "name": "stdout",
     "output_type": "stream",
     "text": [
      "[OK] yearly DonneesOuvertes (1).csv (STARTTIMEMS/millis) year=2023 month=10\n"
     ]
    },
    {
     "name": "stderr",
     "output_type": "stream",
     "text": [
      "                                                                                \r"
     ]
    },
    {
     "name": "stdout",
     "output_type": "stream",
     "text": [
      "[OK] yearly DonneesOuvertes (1).csv (STARTTIMEMS/millis) year=2023 month=7\n"
     ]
    },
    {
     "name": "stderr",
     "output_type": "stream",
     "text": [
      "                                                                                \r"
     ]
    },
    {
     "name": "stdout",
     "output_type": "stream",
     "text": [
      "[OK] yearly DonneesOuvertes (1).csv (STARTTIMEMS/millis) year=2023 month=4\n"
     ]
    },
    {
     "name": "stderr",
     "output_type": "stream",
     "text": [
      "                                                                                \r"
     ]
    },
    {
     "name": "stdout",
     "output_type": "stream",
     "text": [
      "[OK] yearly DonneesOuvertes (1).csv (STARTTIMEMS/millis) year=2023 month=5\n"
     ]
    },
    {
     "name": "stderr",
     "output_type": "stream",
     "text": [
      "                                                                                \r"
     ]
    },
    {
     "name": "stdout",
     "output_type": "stream",
     "text": [
      "[OK] yearly DonneesOuvertes (1).csv (STARTTIMEMS/millis) year=2023 month=11\n"
     ]
    },
    {
     "name": "stderr",
     "output_type": "stream",
     "text": [
      "                                                                                \r"
     ]
    },
    {
     "name": "stdout",
     "output_type": "stream",
     "text": [
      "[OK] yearly DonneesOuvertes (1).csv (STARTTIMEMS/millis) year=2024 month=1\n"
     ]
    },
    {
     "name": "stderr",
     "output_type": "stream",
     "text": [
      "                                                                                \r"
     ]
    },
    {
     "name": "stdout",
     "output_type": "stream",
     "text": [
      "[OK] yearly DonneesOuvertes (2).csv (STARTTIMEMS/millis) year=2024 month=5\n"
     ]
    },
    {
     "name": "stderr",
     "output_type": "stream",
     "text": [
      "                                                                                \r"
     ]
    },
    {
     "name": "stdout",
     "output_type": "stream",
     "text": [
      "[OK] yearly DonneesOuvertes (2).csv (STARTTIMEMS/millis) year=2024 month=3\n"
     ]
    },
    {
     "name": "stderr",
     "output_type": "stream",
     "text": [
      "                                                                                \r"
     ]
    },
    {
     "name": "stdout",
     "output_type": "stream",
     "text": [
      "[OK] yearly DonneesOuvertes (2).csv (STARTTIMEMS/millis) year=2024 month=2\n"
     ]
    },
    {
     "name": "stderr",
     "output_type": "stream",
     "text": [
      "                                                                                \r"
     ]
    },
    {
     "name": "stdout",
     "output_type": "stream",
     "text": [
      "[OK] yearly DonneesOuvertes (2).csv (STARTTIMEMS/millis) year=2024 month=1\n"
     ]
    },
    {
     "name": "stderr",
     "output_type": "stream",
     "text": [
      "                                                                                \r"
     ]
    },
    {
     "name": "stdout",
     "output_type": "stream",
     "text": [
      "[OK] yearly DonneesOuvertes (2).csv (STARTTIMEMS/millis) year=2024 month=8\n"
     ]
    },
    {
     "name": "stderr",
     "output_type": "stream",
     "text": [
      "                                                                                \r"
     ]
    },
    {
     "name": "stdout",
     "output_type": "stream",
     "text": [
      "[OK] yearly DonneesOuvertes (2).csv (STARTTIMEMS/millis) year=2024 month=7\n"
     ]
    },
    {
     "name": "stderr",
     "output_type": "stream",
     "text": [
      "                                                                                \r"
     ]
    },
    {
     "name": "stdout",
     "output_type": "stream",
     "text": [
      "[OK] yearly DonneesOuvertes (2).csv (STARTTIMEMS/millis) year=2024 month=6\n"
     ]
    },
    {
     "name": "stderr",
     "output_type": "stream",
     "text": [
      "                                                                                \r"
     ]
    },
    {
     "name": "stdout",
     "output_type": "stream",
     "text": [
      "[OK] yearly DonneesOuvertes (2).csv (STARTTIMEMS/millis) year=2024 month=4\n"
     ]
    },
    {
     "name": "stderr",
     "output_type": "stream",
     "text": [
      "                                                                                \r"
     ]
    },
    {
     "name": "stdout",
     "output_type": "stream",
     "text": [
      "[OK] yearly DonneesOuvertes (2).csv (STARTTIMEMS/millis) year=2024 month=9\n"
     ]
    },
    {
     "name": "stderr",
     "output_type": "stream",
     "text": [
      "                                                                                \r"
     ]
    },
    {
     "name": "stdout",
     "output_type": "stream",
     "text": [
      "[OK] yearly DonneesOuvertes (2).csv (STARTTIMEMS/millis) year=2024 month=10\n"
     ]
    },
    {
     "name": "stderr",
     "output_type": "stream",
     "text": [
      "                                                                                \r"
     ]
    },
    {
     "name": "stdout",
     "output_type": "stream",
     "text": [
      "[OK] yearly DonneesOuvertes (2).csv (STARTTIMEMS/millis) year=2024 month=11\n"
     ]
    },
    {
     "name": "stderr",
     "output_type": "stream",
     "text": [
      "                                                                                \r"
     ]
    },
    {
     "name": "stdout",
     "output_type": "stream",
     "text": [
      "[OK] yearly DonneesOuvertes (2).csv (STARTTIMEMS/millis) year=2024 month=12\n"
     ]
    },
    {
     "name": "stderr",
     "output_type": "stream",
     "text": [
      "                                                                                \r"
     ]
    },
    {
     "name": "stdout",
     "output_type": "stream",
     "text": [
      "[OK] yearly DonneesOuvertes (2).csv (STARTTIMEMS/millis) year=2025 month=1\n"
     ]
    },
    {
     "name": "stderr",
     "output_type": "stream",
     "text": [
      "                                                                                \r"
     ]
    },
    {
     "name": "stdout",
     "output_type": "stream",
     "text": [
      "[OK] yearly DonneesOuvertes2025_0102030405060708.csv (STARTTIMEMS/millis) year=2025 month=5\n"
     ]
    },
    {
     "name": "stderr",
     "output_type": "stream",
     "text": [
      "                                                                                \r"
     ]
    },
    {
     "name": "stdout",
     "output_type": "stream",
     "text": [
      "[OK] yearly DonneesOuvertes2025_0102030405060708.csv (STARTTIMEMS/millis) year=2025 month=6\n"
     ]
    },
    {
     "name": "stderr",
     "output_type": "stream",
     "text": [
      "                                                                                \r"
     ]
    },
    {
     "name": "stdout",
     "output_type": "stream",
     "text": [
      "[OK] yearly DonneesOuvertes2025_0102030405060708.csv (STARTTIMEMS/millis) year=2025 month=1\n"
     ]
    },
    {
     "name": "stderr",
     "output_type": "stream",
     "text": [
      "                                                                                \r"
     ]
    },
    {
     "name": "stdout",
     "output_type": "stream",
     "text": [
      "[OK] yearly DonneesOuvertes2025_0102030405060708.csv (STARTTIMEMS/millis) year=2025 month=7\n"
     ]
    },
    {
     "name": "stderr",
     "output_type": "stream",
     "text": [
      "                                                                                \r"
     ]
    },
    {
     "name": "stdout",
     "output_type": "stream",
     "text": [
      "[OK] yearly DonneesOuvertes2025_0102030405060708.csv (STARTTIMEMS/millis) year=2025 month=4\n"
     ]
    },
    {
     "name": "stderr",
     "output_type": "stream",
     "text": [
      "                                                                                \r"
     ]
    },
    {
     "name": "stdout",
     "output_type": "stream",
     "text": [
      "[OK] yearly DonneesOuvertes2025_0102030405060708.csv (STARTTIMEMS/millis) year=2025 month=3\n"
     ]
    },
    {
     "name": "stderr",
     "output_type": "stream",
     "text": [
      "                                                                                \r"
     ]
    },
    {
     "name": "stdout",
     "output_type": "stream",
     "text": [
      "[OK] yearly DonneesOuvertes2025_0102030405060708.csv (STARTTIMEMS/millis) year=2025 month=8\n"
     ]
    },
    {
     "name": "stderr",
     "output_type": "stream",
     "text": [
      "                                                                                \r"
     ]
    },
    {
     "name": "stdout",
     "output_type": "stream",
     "text": [
      "[OK] yearly DonneesOuvertes2025_0102030405060708.csv (STARTTIMEMS/millis) year=2025 month=2\n"
     ]
    },
    {
     "name": "stderr",
     "output_type": "stream",
     "text": [
      "                                                                                \r"
     ]
    },
    {
     "name": "stdout",
     "output_type": "stream",
     "text": [
      "[OK] yearly DonneesOuvertes2025_0102030405060708.csv (STARTTIMEMS/millis) year=2025 month=9\n",
      "Bronze-Parquet fertig: /workspaces/projekt-datascience/data/parquet/bronze/usage\n"
     ]
    }
   ],
   "source": [
    "from pathlib import Path\n",
    "import re\n",
    "from pyspark.sql import SparkSession, functions as F\n",
    "\n",
    "RAW_CITY = Path(\"/workspaces/projekt-datascience/data/raw/montreal\")\n",
    "OUT_BASE = \"/workspaces/projekt-datascience/data/parquet/bronze/usage\"\n",
    "CITY = \"montreal\"\n",
    "\n",
    "spark = (SparkSession.builder\n",
    "         .appName(\"bronze-parquet-bikes\")\n",
    "         .config(\"spark.sql.sources.partitionOverwriteMode\", \"dynamic\")\n",
    "         .config(\"spark.sql.parquet.compression.codec\", \"snappy\")\n",
    "         # .config(\"spark.sql.legacy.timeParserPolicy\", \"LEGACY\")\n",
    "         .getOrCreate())\n",
    "\n",
    "def read_csv_as_strings(path: str):\n",
    "    return (spark.read.format(\"csv\")\n",
    "            .option(\"header\", True)\n",
    "            .option(\"multiLine\", False)\n",
    "            .option(\"mode\", \"PERMISSIVE\")\n",
    "            .option(\"inferSchema\", False)\n",
    "            .load(path))\n",
    "\n",
    "monthly_files = sorted(RAW_CITY.glob(\"**/monthly/*.csv*\"))\n",
    "yearly_files  = sorted(RAW_CITY.glob(\"**/yearly/*.csv*\"))\n",
    "\n",
    "print(f\"Monatliche Dateien: {len(monthly_files)}\")\n",
    "print(f\"Jährliche Dateien:  {len(yearly_files)}\")\n",
    "\n",
    "RE_YM = re.compile(r\"(?P<y>20\\d{2})(?P<m>0[1-9]|1[0-2])\")\n",
    "\n",
    "def parse_year_month_from_name(p: Path):\n",
    "    m = RE_YM.search(p.name)\n",
    "    if m:\n",
    "        return int(m[\"y\"]), int(m[\"m\"])\n",
    "    try:\n",
    "        y = int([part for part in p.parts if part.isdigit() and len(part) == 4][0])\n",
    "        m2 = re.search(r\"-(0[1-9]|1[0-2])\", p.name)\n",
    "        if m2:\n",
    "            return y, int(m2.group(1))\n",
    "    except Exception:\n",
    "        pass\n",
    "    return None, None\n",
    "\n",
    "CANDIDATE_TS_STR_COLS = [\n",
    "    \"started_at\",\"start_time\",\"starttime\",\"start date\",\"start_date\",\n",
    "    \"start date time\",\"start_date_time\",\"start time\",\"start_date_local\",\n",
    "    \"starttimeutc\",\"starttime_utc\",\"start_time_utc\"\n",
    "]\n",
    "MS_TS_COL = \"starttimems\"\n",
    "\n",
    "def build_ts_expr(df):\n",
    "    lower = {c.lower(): c for c in df.columns}\n",
    "\n",
    "    if MS_TS_COL in lower:\n",
    "        col_ms = lower[MS_TS_COL]\n",
    "        ts_expr = F.from_unixtime((F.col(col_ms).cast(\"double\") / F.lit(1000.0))).cast(\"timestamp\")\n",
    "        return ts_expr, col_ms, \"millis\"\n",
    "\n",
    "    for key in CANDIDATE_TS_STR_COLS:\n",
    "        if key in lower:\n",
    "            col_ts = lower[key]\n",
    "            ts_expr = F.to_timestamp(F.col(col_ts))\n",
    "            return ts_expr, col_ts, \"string\"\n",
    "\n",
    "    for c in df.columns:\n",
    "        if \"start\" in c.lower():\n",
    "            ts_expr = F.to_timestamp(F.col(c))\n",
    "            return ts_expr, c, \"heuristic\"\n",
    "\n",
    "    return None, None, None\n",
    "\n",
    "def write_month_partition(df, year: int, month: int):\n",
    "    (df.withColumn(\"city\", F.lit(CITY))\n",
    "       .withColumn(\"year\", F.lit(int(year)))\n",
    "       .withColumn(\"month\", F.lit(int(month)))\n",
    "       .write.mode(\"overwrite\")\n",
    "       .partitionBy(\"city\",\"year\",\"month\")\n",
    "       .parquet(OUT_BASE))\n",
    "\n",
    "for f in monthly_files:\n",
    "    y, m = parse_year_month_from_name(f)\n",
    "    if not y or not m:\n",
    "        print(f\"[SKIP] YYYYMM nicht erkannt: {f.name}\")\n",
    "        continue\n",
    "    df = read_csv_as_strings(str(f))\n",
    "    write_month_partition(df, y, m)\n",
    "    print(f\"[OK] monthly {f.name} year={y} month={m}\")\n",
    "\n",
    "for f in yearly_files:\n",
    "    df = read_csv_as_strings(str(f))\n",
    "    ts_expr, ts_src, ts_kind = build_ts_expr(df)\n",
    "    if ts_expr is None:\n",
    "        print(f\"[WARN] Keine Zeitspalte gefunden: {f.name} übersprungen.\")\n",
    "        continue\n",
    "\n",
    "    df_ts = df.withColumn(\"_ts\", ts_expr)\n",
    "    ym = (df_ts\n",
    "          .select(F.year(\"_ts\").alias(\"y\"), F.month(\"_ts\").alias(\"m\"))\n",
    "          .where(F.col(\"y\").isNotNull() & F.col(\"m\").isNotNull())\n",
    "          .distinct()\n",
    "          .collect())\n",
    "\n",
    "    if not ym:\n",
    "        print(f\"[WARN] Keine gültigen Timestamps in {f.name} (Quelle: {ts_src}/{ts_kind}) übersprungen.\")\n",
    "        continue\n",
    "\n",
    "    for row in ym:\n",
    "        y, m = int(row[\"y\"]), int(row[\"m\"])\n",
    "        part_df = df_ts.where((F.year(\"_ts\") == y) & (F.month(\"_ts\") == m)).drop(\"_ts\")\n",
    "        write_month_partition(part_df, y, m)\n",
    "        print(f\"[OK] yearly {f.name} ({ts_src}/{ts_kind}) year={y} month={m}\")\n",
    "\n",
    "spark.stop()\n",
    "print(\"Bronze-Parquet fertig:\", OUT_BASE)"
   ]
  }
 ],
 "metadata": {
  "kernelspec": {
   "display_name": "Python 3 (ipykernel)",
   "language": "python",
   "name": "python3"
  },
  "language_info": {
   "codemirror_mode": {
    "name": "ipython",
    "version": 3
   },
   "file_extension": ".py",
   "mimetype": "text/x-python",
   "name": "python",
   "nbconvert_exporter": "python",
   "pygments_lexer": "ipython3",
   "version": "3.10.19"
  }
 },
 "nbformat": 4,
 "nbformat_minor": 5
}
